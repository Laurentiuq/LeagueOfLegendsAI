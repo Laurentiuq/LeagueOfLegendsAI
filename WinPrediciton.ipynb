{
 "cells": [
  {
   "cell_type": "code",
   "execution_count": 3,
   "metadata": {
    "collapsed": true
   },
   "outputs": [],
   "source": [
    "from riotwatcher import LolWatcher, ApiError\n",
    "import pandas as pd\n",
    "import json"
   ]
  },
  {
   "cell_type": "code",
   "execution_count": 12,
   "outputs": [
    {
     "name": "stdout",
     "output_type": "stream",
     "text": [
      "None\n"
     ]
    },
    {
     "ename": "HTTPError",
     "evalue": "403 Client Error: Forbidden for url: https://eun1.api.riotgames.com/lol/summoner/v4/summoners/by-name/Omideer",
     "output_type": "error",
     "traceback": [
      "\u001B[1;31m---------------------------------------------------------------------------\u001B[0m",
      "\u001B[1;31mHTTPError\u001B[0m                                 Traceback (most recent call last)",
      "File \u001B[1;32m~\\PycharmProjects\\LeagueOfLegendsAI\\venv\\lib\\site-packages\\riotwatcher\\Handlers\\ThrowOnErrorHandler.py:18\u001B[0m, in \u001B[0;36mThrowOnErrorHandler.after_request\u001B[1;34m(self, region, endpoint_name, method_name, url, response)\u001B[0m\n\u001B[0;32m     17\u001B[0m \u001B[38;5;28;01mtry\u001B[39;00m:\n\u001B[1;32m---> 18\u001B[0m     \u001B[43mresponse\u001B[49m\u001B[38;5;241;43m.\u001B[39;49m\u001B[43mraise_for_status\u001B[49m\u001B[43m(\u001B[49m\u001B[43m)\u001B[49m\n\u001B[0;32m     19\u001B[0m \u001B[38;5;28;01mexcept\u001B[39;00m requests\u001B[38;5;241m.\u001B[39mHTTPError \u001B[38;5;28;01mas\u001B[39;00m err:\n",
      "File \u001B[1;32m~\\AppData\\Local\\Packages\\PythonSoftwareFoundation.Python.3.9_qbz5n2kfra8p0\\LocalCache\\local-packages\\Python39\\site-packages\\requests\\models.py:960\u001B[0m, in \u001B[0;36mResponse.raise_for_status\u001B[1;34m(self)\u001B[0m\n\u001B[0;32m    959\u001B[0m \u001B[38;5;28;01mif\u001B[39;00m http_error_msg:\n\u001B[1;32m--> 960\u001B[0m     \u001B[38;5;28;01mraise\u001B[39;00m HTTPError(http_error_msg, response\u001B[38;5;241m=\u001B[39m\u001B[38;5;28mself\u001B[39m)\n",
      "\u001B[1;31mHTTPError\u001B[0m: 403 Client Error: Forbidden for url: https://eun1.api.riotgames.com/lol/summoner/v4/summoners/by-name/Omideer",
      "\nDuring handling of the above exception, another exception occurred:\n",
      "\u001B[1;31mHTTPError\u001B[0m                                 Traceback (most recent call last)",
      "Cell \u001B[1;32mIn[12], line 5\u001B[0m\n\u001B[0;32m      3\u001B[0m watcher \u001B[38;5;241m=\u001B[39m LolWatcher(api_key)\n\u001B[0;32m      4\u001B[0m my_region \u001B[38;5;241m=\u001B[39m \u001B[38;5;124m'\u001B[39m\u001B[38;5;124mEUN1\u001B[39m\u001B[38;5;124m'\u001B[39m\n\u001B[1;32m----> 5\u001B[0m me \u001B[38;5;241m=\u001B[39m \u001B[43mwatcher\u001B[49m\u001B[38;5;241;43m.\u001B[39;49m\u001B[43msummoner\u001B[49m\u001B[38;5;241;43m.\u001B[39;49m\u001B[43mby_name\u001B[49m\u001B[43m(\u001B[49m\u001B[43mmy_region\u001B[49m\u001B[43m,\u001B[49m\u001B[43m \u001B[49m\u001B[38;5;124;43m'\u001B[39;49m\u001B[38;5;124;43mOmideer\u001B[39;49m\u001B[38;5;124;43m'\u001B[39;49m\u001B[43m)\u001B[49m\n\u001B[0;32m      6\u001B[0m \u001B[38;5;28mprint\u001B[39m(me)\n\u001B[0;32m      7\u001B[0m my_puuid \u001B[38;5;241m=\u001B[39m me[\u001B[38;5;124m'\u001B[39m\u001B[38;5;124mpuuid\u001B[39m\u001B[38;5;124m'\u001B[39m]\n",
      "File \u001B[1;32m~\\PycharmProjects\\LeagueOfLegendsAI\\venv\\lib\\site-packages\\riotwatcher\\_apis\\league_of_legends\\SummonerApiV4.py:46\u001B[0m, in \u001B[0;36mSummonerApiV4.by_name\u001B[1;34m(self, region, summoner_name)\u001B[0m\n\u001B[0;32m     37\u001B[0m \u001B[38;5;28;01mdef\u001B[39;00m \u001B[38;5;21mby_name\u001B[39m(\u001B[38;5;28mself\u001B[39m, region: \u001B[38;5;28mstr\u001B[39m, summoner_name: \u001B[38;5;28mstr\u001B[39m):\n\u001B[0;32m     38\u001B[0m \u001B[38;5;250m    \u001B[39m\u001B[38;5;124;03m\"\"\"\u001B[39;00m\n\u001B[0;32m     39\u001B[0m \u001B[38;5;124;03m    Get a summoner by summoner name\u001B[39;00m\n\u001B[0;32m     40\u001B[0m \n\u001B[1;32m   (...)\u001B[0m\n\u001B[0;32m     44\u001B[0m \u001B[38;5;124;03m    :returns: SummonerDTO: represents a summoner\u001B[39;00m\n\u001B[0;32m     45\u001B[0m \u001B[38;5;124;03m    \"\"\"\u001B[39;00m\n\u001B[1;32m---> 46\u001B[0m     \u001B[38;5;28;01mreturn\u001B[39;00m \u001B[38;5;28;43mself\u001B[39;49m\u001B[38;5;241;43m.\u001B[39;49m\u001B[43m_request_endpoint\u001B[49m\u001B[43m(\u001B[49m\n\u001B[0;32m     47\u001B[0m \u001B[43m        \u001B[49m\u001B[38;5;28;43mself\u001B[39;49m\u001B[38;5;241;43m.\u001B[39;49m\u001B[43mby_name\u001B[49m\u001B[38;5;241;43m.\u001B[39;49m\u001B[38;5;18;43m__name__\u001B[39;49m\u001B[43m,\u001B[49m\n\u001B[0;32m     48\u001B[0m \u001B[43m        \u001B[49m\u001B[43mregion\u001B[49m\u001B[43m,\u001B[49m\n\u001B[0;32m     49\u001B[0m \u001B[43m        \u001B[49m\u001B[43mSummonerApiV4Urls\u001B[49m\u001B[38;5;241;43m.\u001B[39;49m\u001B[43mby_name\u001B[49m\u001B[43m,\u001B[49m\n\u001B[0;32m     50\u001B[0m \u001B[43m        \u001B[49m\u001B[43msummoner_name\u001B[49m\u001B[38;5;241;43m=\u001B[39;49m\u001B[43msummoner_name\u001B[49m\u001B[43m,\u001B[49m\n\u001B[0;32m     51\u001B[0m \u001B[43m    \u001B[49m\u001B[43m)\u001B[49m\n",
      "File \u001B[1;32m~\\PycharmProjects\\LeagueOfLegendsAI\\venv\\lib\\site-packages\\riotwatcher\\_apis\\NamedEndpoint.py:36\u001B[0m, in \u001B[0;36mNamedEndpoint._request_endpoint\u001B[1;34m(self, method_name, region, endpoint, **kwargs)\u001B[0m\n\u001B[0;32m     26\u001B[0m \u001B[38;5;250m\u001B[39m\u001B[38;5;124;03m\"\"\"\u001B[39;00m\n\u001B[0;32m     27\u001B[0m \u001B[38;5;124;03mSends a request through the BaseApi instance provided, injecting the provided\u001B[39;00m\n\u001B[0;32m     28\u001B[0m \u001B[38;5;124;03mendpoint_name into the method call, so the caller doesn't have to.\u001B[39;00m\n\u001B[1;32m   (...)\u001B[0m\n\u001B[0;32m     33\u001B[0m \u001B[38;5;124;03m                            parameters\u001B[39;00m\n\u001B[0;32m     34\u001B[0m \u001B[38;5;124;03m\"\"\"\u001B[39;00m\n\u001B[0;32m     35\u001B[0m url, query \u001B[38;5;241m=\u001B[39m endpoint(platform\u001B[38;5;241m=\u001B[39mregion, \u001B[38;5;241m*\u001B[39m\u001B[38;5;241m*\u001B[39mkwargs)\n\u001B[1;32m---> 36\u001B[0m \u001B[38;5;28;01mreturn\u001B[39;00m \u001B[38;5;28;43mself\u001B[39;49m\u001B[38;5;241;43m.\u001B[39;49m\u001B[43m_base_api\u001B[49m\u001B[38;5;241;43m.\u001B[39;49m\u001B[43mraw_request\u001B[49m\u001B[43m(\u001B[49m\n\u001B[0;32m     37\u001B[0m \u001B[43m    \u001B[49m\u001B[38;5;28;43mself\u001B[39;49m\u001B[38;5;241;43m.\u001B[39;49m\u001B[43m_endpoint_name\u001B[49m\u001B[43m,\u001B[49m\u001B[43m \u001B[49m\u001B[43mmethod_name\u001B[49m\u001B[43m,\u001B[49m\u001B[43m \u001B[49m\u001B[43mregion\u001B[49m\u001B[43m,\u001B[49m\u001B[43m \u001B[49m\u001B[43murl\u001B[49m\u001B[43m,\u001B[49m\u001B[43m \u001B[49m\u001B[43mquery\u001B[49m\n\u001B[0;32m     38\u001B[0m \u001B[43m\u001B[49m\u001B[43m)\u001B[49m\n",
      "File \u001B[1;32m~\\PycharmProjects\\LeagueOfLegendsAI\\venv\\lib\\site-packages\\riotwatcher\\_apis\\BaseApi.py:51\u001B[0m, in \u001B[0;36mBaseApi.raw_request\u001B[1;34m(self, endpoint_name, method_name, region, url, query_params)\u001B[0m\n\u001B[0;32m     49\u001B[0m \u001B[38;5;28;01mif\u001B[39;00m \u001B[38;5;28mself\u001B[39m\u001B[38;5;241m.\u001B[39m_request_handlers \u001B[38;5;129;01mis\u001B[39;00m \u001B[38;5;129;01mnot\u001B[39;00m \u001B[38;5;28;01mNone\u001B[39;00m:\n\u001B[0;32m     50\u001B[0m     \u001B[38;5;28;01mfor\u001B[39;00m handler \u001B[38;5;129;01min\u001B[39;00m \u001B[38;5;28mself\u001B[39m\u001B[38;5;241m.\u001B[39m_request_handlers[early_ret_idx:\u001B[38;5;28;01mNone\u001B[39;00m:\u001B[38;5;241m-\u001B[39m\u001B[38;5;241m1\u001B[39m]:\n\u001B[1;32m---> 51\u001B[0m         mod \u001B[38;5;241m=\u001B[39m \u001B[43mhandler\u001B[49m\u001B[38;5;241;43m.\u001B[39;49m\u001B[43mafter_request\u001B[49m\u001B[43m(\u001B[49m\n\u001B[0;32m     52\u001B[0m \u001B[43m            \u001B[49m\u001B[43mregion\u001B[49m\u001B[43m,\u001B[49m\u001B[43m \u001B[49m\u001B[43mendpoint_name\u001B[49m\u001B[43m,\u001B[49m\u001B[43m \u001B[49m\u001B[43mmethod_name\u001B[49m\u001B[43m,\u001B[49m\u001B[43m \u001B[49m\u001B[43murl\u001B[49m\u001B[43m,\u001B[49m\u001B[43m \u001B[49m\u001B[43mresponse\u001B[49m\n\u001B[0;32m     53\u001B[0m \u001B[43m        \u001B[49m\u001B[43m)\u001B[49m\n\u001B[0;32m     54\u001B[0m         \u001B[38;5;28;01mif\u001B[39;00m mod \u001B[38;5;129;01mis\u001B[39;00m \u001B[38;5;129;01mnot\u001B[39;00m \u001B[38;5;28;01mNone\u001B[39;00m:\n\u001B[0;32m     55\u001B[0m             response \u001B[38;5;241m=\u001B[39m mod\n",
      "File \u001B[1;32m~\\PycharmProjects\\LeagueOfLegendsAI\\venv\\lib\\site-packages\\riotwatcher\\Handlers\\ThrowOnErrorHandler.py:20\u001B[0m, in \u001B[0;36mThrowOnErrorHandler.after_request\u001B[1;34m(self, region, endpoint_name, method_name, url, response)\u001B[0m\n\u001B[0;32m     18\u001B[0m     response\u001B[38;5;241m.\u001B[39mraise_for_status()\n\u001B[0;32m     19\u001B[0m \u001B[38;5;28;01mexcept\u001B[39;00m requests\u001B[38;5;241m.\u001B[39mHTTPError \u001B[38;5;28;01mas\u001B[39;00m err:\n\u001B[1;32m---> 20\u001B[0m     \u001B[38;5;28;01mraise\u001B[39;00m ApiError(\u001B[38;5;241m*\u001B[39merr\u001B[38;5;241m.\u001B[39margs, request\u001B[38;5;241m=\u001B[39merr\u001B[38;5;241m.\u001B[39mrequest, response\u001B[38;5;241m=\u001B[39merr\u001B[38;5;241m.\u001B[39mresponse)\n",
      "\u001B[1;31mHTTPError\u001B[0m: 403 Client Error: Forbidden for url: https://eun1.api.riotgames.com/lol/summoner/v4/summoners/by-name/Omideer"
     ]
    }
   ],
   "source": [
    "api_key = 'SECRET'\n",
    "watcher = LolWatcher(api_key)\n",
    "my_region = 'EUN1'\n",
    "me = watcher.summoner.by_name(my_region, 'nanemernic')\n",
    "print(me)\n",
    "my_puuid = me['puuid']"
   ],
   "metadata": {
    "collapsed": false
   }
  },
  {
   "cell_type": "code",
   "execution_count": 4,
   "outputs": [
    {
     "name": "stdout",
     "output_type": "stream",
     "text": [
      "[{'leagueId': '71f38a6f-aa71-4fb0-a917-00b9ddf2099b', 'queueType': 'RANKED_SOLO_5x5', 'tier': 'BRONZE', 'rank': 'II', 'summonerId': 'N9aiF14yNkYmwqpM7y30enDhkm69Yw_JMue7zAd-ed7RTj9pxCmVMF3RLw', 'summonerName': 'nanemernic', 'leaguePoints': 0, 'wins': 22, 'losses': 40, 'veteran': False, 'inactive': False, 'freshBlood': False, 'hotStreak': False}]\n"
     ]
    }
   ],
   "source": [
    "my_ranked_status = watcher.league.by_summoner(my_region, me['id'])\n",
    "print(my_ranked_status)"
   ],
   "metadata": {
    "collapsed": false
   }
  },
  {
   "cell_type": "code",
   "execution_count": 6,
   "outputs": [
    {
     "name": "stdout",
     "output_type": "stream",
     "text": [
      "['EUN1_3328185650', 'EUN1_3327631819', 'EUN1_3327422739', 'EUN1_3327395918', 'EUN1_3327252754', 'EUN1_3327235551', 'EUN1_3326314743', 'EUN1_3326283675', 'EUN1_3324664146', 'EUN1_3324636792', 'EUN1_3324088541', 'EUN1_3324069222', 'EUN1_3323554349', 'EUN1_3323397157', 'EUN1_3323208388', 'EUN1_3323178480', 'EUN1_3323163397', 'EUN1_3322920608', 'EUN1_3322890134', 'EUN1_3322855097']\n"
     ]
    },
    {
     "ename": "TypeError",
     "evalue": "string indices must be integers",
     "output_type": "error",
     "traceback": [
      "\u001B[1;31m---------------------------------------------------------------------------\u001B[0m",
      "\u001B[1;31mTypeError\u001B[0m                                 Traceback (most recent call last)",
      "Cell \u001B[1;32mIn[6], line 14\u001B[0m\n\u001B[0;32m     12\u001B[0m \u001B[38;5;28;01mfor\u001B[39;00m row \u001B[38;5;129;01min\u001B[39;00m match_detail[\u001B[38;5;124m'\u001B[39m\u001B[38;5;124mmetadata\u001B[39m\u001B[38;5;124m'\u001B[39m][\u001B[38;5;124m'\u001B[39m\u001B[38;5;124mparticipants\u001B[39m\u001B[38;5;124m'\u001B[39m]:\n\u001B[0;32m     13\u001B[0m     participants_row \u001B[38;5;241m=\u001B[39m {}\n\u001B[1;32m---> 14\u001B[0m     participants_row[\u001B[38;5;124m'\u001B[39m\u001B[38;5;124mchampion\u001B[39m\u001B[38;5;124m'\u001B[39m] \u001B[38;5;241m=\u001B[39m \u001B[43mrow\u001B[49m\u001B[43m[\u001B[49m\u001B[38;5;124;43m'\u001B[39;49m\u001B[38;5;124;43mchampionId\u001B[39;49m\u001B[38;5;124;43m'\u001B[39;49m\u001B[43m]\u001B[49m\n\u001B[0;32m     15\u001B[0m     participants_row[\u001B[38;5;124m'\u001B[39m\u001B[38;5;124mspell1\u001B[39m\u001B[38;5;124m'\u001B[39m] \u001B[38;5;241m=\u001B[39m row[\u001B[38;5;124m'\u001B[39m\u001B[38;5;124mspell1Id\u001B[39m\u001B[38;5;124m'\u001B[39m]\n\u001B[0;32m     16\u001B[0m     participants_row[\u001B[38;5;124m'\u001B[39m\u001B[38;5;124mspell2\u001B[39m\u001B[38;5;124m'\u001B[39m] \u001B[38;5;241m=\u001B[39m row[\u001B[38;5;124m'\u001B[39m\u001B[38;5;124mspell2Id\u001B[39m\u001B[38;5;124m'\u001B[39m]\n",
      "\u001B[1;31mTypeError\u001B[0m: string indices must be integers"
     ]
    }
   ],
   "source": [
    "my_matches = watcher.match.matchlist_by_puuid(my_region, me['puuid'])\n",
    "print(my_matches)\n",
    "last_match = my_matches[0]\n",
    "match_detail = watcher.match.by_id(my_region, last_match)\n",
    "# print(match_detail)\n",
    "jsonString = json.dumps(match_detail, sort_keys=True, indent=4)\n",
    "jsonFile = open(\"match_detail.json\", \"w\")\n",
    "jsonFile.write(jsonString)\n",
    "jsonFile.close()\n",
    "# participants = []\n",
    "#\n",
    "# for row in match_detail['metadata']['participants']:\n",
    "#     participants_row = {}\n",
    "#     participants_row['champion'] = row['championId']\n",
    "#     participants_row['spell1'] = row['spell1Id']\n",
    "#     participants_row['spell2'] = row['spell2Id']\n",
    "#     participants_row['win'] = row['stats']['win']\n",
    "#     participants_row['kills'] = row['stats']['kills']\n",
    "#     participants_row['deaths'] = row['stats']['deaths']\n",
    "#     participants_row['assists'] = row['stats']['assists']\n",
    "#     participants_row['totalDamageDealt'] = row['stats']['totalDamageDealt']\n",
    "#     participants_row['totalDamageTaken'] = row['stats']['totalDamageTaken']\n",
    "#     participants_row['goldEarned'] = row['stats']['goldEarned']\n",
    "#     participants_row['champLevel'] = row['stats']['champLevel']\n",
    "#     participants_row['totalMinionsKilled'] = row['stats']['totalMinionsKilled']\n",
    "#     participants_row['visionScore'] = row['stats']['visionScore']\n",
    "#     participants_row['item0'] = row['stats']['item0']\n",
    "#     participants_row['item1'] = row['stats']['item1']\n",
    "#     participants.append(participants_row)\n",
    "#\n",
    "# df = pd.DataFrame(participants)\n",
    "# df"
   ],
   "metadata": {
    "collapsed": false
   }
  },
  {
   "cell_type": "code",
   "execution_count": null,
   "outputs": [],
   "source": [],
   "metadata": {
    "collapsed": false
   }
  }
 ],
 "metadata": {
  "kernelspec": {
   "display_name": "Python 3",
   "language": "python",
   "name": "python3"
  },
  "language_info": {
   "codemirror_mode": {
    "name": "ipython",
    "version": 2
   },
   "file_extension": ".py",
   "mimetype": "text/x-python",
   "name": "python",
   "nbconvert_exporter": "python",
   "pygments_lexer": "ipython2",
   "version": "2.7.6"
  }
 },
 "nbformat": 4,
 "nbformat_minor": 0
}
