{
 "cells": [
  {
   "cell_type": "code",
   "execution_count": 27,
   "metadata": {
    "collapsed": true
   },
   "outputs": [],
   "source": [
    "from riotwatcher import LolWatcher, ApiError\n",
    "import pandas as pd\n",
    "import json"
   ]
  },
  {
   "cell_type": "code",
   "execution_count": 35,
   "outputs": [
    {
     "data": {
      "text/plain": "True"
     },
     "execution_count": 35,
     "metadata": {},
     "output_type": "execute_result"
    }
   ],
   "source": [
    "api_key = 'SECRET'\n",
    "watcher = LolWatcher(api_key)\n",
    "my_region = 'EUN1'\n",
    "me = watcher.summoner.by_name(my_region, 'nanemernic')\n",
    "print(me)\n",
    "my_puuid = me['puuid']"
   ],
   "metadata": {
    "collapsed": false
   }
  },
  {
   "cell_type": "code",
   "execution_count": 38,
   "outputs": [
    {
     "name": "stdout",
     "output_type": "stream",
     "text": [
      "{'id': 'rJJongZK8DEmMHwswAnDZ-Q_BSHnrIFdaoJyo1bggCSCzbk', 'accountId': 'QEW0ym-o6Q2GPuWOte-vS0JqEAzZ2UyMqbuRzJqxk-QvqOFKs31mHjJQ', 'puuid': '5F6upIZc-oVlx5-tY-OunVyGuywgyZ8qLc2d0PN-I5TylwpubAtWTvZadTT5virp1bQ-aARK3f5eNg', 'name': 'Omideer', 'profileIconId': 5169, 'revisionDate': 1678134022000, 'summonerLevel': 136}\n"
     ]
    }
   ],
   "source": [
    "my_ranked_status = watcher.league.by_summoner(my_region, me['id'])\n",
    "print(my_ranked_status)"
   ],
   "metadata": {
    "collapsed": false
   }
  },
  {
   "cell_type": "code",
   "execution_count": 39,
   "outputs": [
    {
     "name": "stdout",
     "output_type": "stream",
     "text": [
      "[{'leagueId': '37651b54-f21e-47e7-ac79-ef511ddb5e9b', 'queueType': 'RANKED_SOLO_5x5', 'tier': 'BRONZE', 'rank': 'II', 'summonerId': 'rJJongZK8DEmMHwswAnDZ-Q_BSHnrIFdaoJyo1bggCSCzbk', 'summonerName': 'Omideer', 'leaguePoints': 34, 'wins': 9, 'losses': 4, 'veteran': False, 'inactive': False, 'freshBlood': False, 'hotStreak': False}]\n"
     ]
    }
   ],
   "source": [
    "my_matches = watcher.match.matchlist_by_puuid(my_region, me['puuid'])\n",
    "print(my_matches)\n",
    "last_match = my_matches[0]\n",
    "match_detail = watcher.match.by_id(my_region, last_match)\n",
    "# print(match_detail)\n",
    "jsonString = json.dumps(match_detail, sort_keys=True, indent=4)\n",
    "jsonFile = open(\"match_detail.json\", \"w\")\n",
    "jsonFile.write(jsonString)\n",
    "jsonFile.close()\n",
    "# participants = []\n",
    "#\n",
    "# for row in match_detail['metadata']['participants']:\n",
    "#     participants_row = {}\n",
    "#     participants_row['champion'] = row['championId']\n",
    "#     participants_row['spell1'] = row['spell1Id']\n",
    "#     participants_row['spell2'] = row['spell2Id']\n",
    "#     participants_row['win'] = row['stats']['win']\n",
    "#     participants_row['kills'] = row['stats']['kills']\n",
    "#     participants_row['deaths'] = row['stats']['deaths']\n",
    "#     participants_row['assists'] = row['stats']['assists']\n",
    "#     participants_row['totalDamageDealt'] = row['stats']['totalDamageDealt']\n",
    "#     participants_row['totalDamageTaken'] = row['stats']['totalDamageTaken']\n",
    "#     participants_row['goldEarned'] = row['stats']['goldEarned']\n",
    "#     participants_row['champLevel'] = row['stats']['champLevel']\n",
    "#     participants_row['totalMinionsKilled'] = row['stats']['totalMinionsKilled']\n",
    "#     participants_row['visionScore'] = row['stats']['visionScore']\n",
    "#     participants_row['item0'] = row['stats']['item0']\n",
    "#     participants_row['item1'] = row['stats']['item1']\n",
    "#     participants.append(participants_row)\n",
    "#\n",
    "# df = pd.DataFrame(participants)\n",
    "# df"
   ],
   "metadata": {
    "collapsed": false
   }
  },
  {
   "cell_type": "code",
   "execution_count": null,
   "outputs": [],
   "source": [],
   "metadata": {
    "collapsed": false
   }
  }
 ],
 "metadata": {
  "kernelspec": {
   "display_name": "Python 3",
   "language": "python",
   "name": "python3"
  },
  "language_info": {
   "codemirror_mode": {
    "name": "ipython",
    "version": 2
   },
   "file_extension": ".py",
   "mimetype": "text/x-python",
   "name": "python",
   "nbconvert_exporter": "python",
   "pygments_lexer": "ipython2",
   "version": "2.7.6"
  }
 },
 "nbformat": 4,
 "nbformat_minor": 0
}
